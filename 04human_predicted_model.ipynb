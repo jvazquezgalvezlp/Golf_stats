{
 "cells": [
  {
   "cell_type": "code",
   "execution_count": 1,
   "metadata": {},
   "outputs": [],
   "source": [
    "import pandas as pd\n",
    "import numpy as np"
   ]
  },
  {
   "cell_type": "code",
   "execution_count": 2,
   "metadata": {},
   "outputs": [
    {
     "data": {
      "text/html": [
       "<div>\n",
       "<style scoped>\n",
       "    .dataframe tbody tr th:only-of-type {\n",
       "        vertical-align: middle;\n",
       "    }\n",
       "\n",
       "    .dataframe tbody tr th {\n",
       "        vertical-align: top;\n",
       "    }\n",
       "\n",
       "    .dataframe thead th {\n",
       "        text-align: right;\n",
       "    }\n",
       "</style>\n",
       "<table border=\"1\" class=\"dataframe\">\n",
       "  <thead>\n",
       "    <tr style=\"text-align: right;\">\n",
       "      <th></th>\n",
       "      <th>NAME</th>\n",
       "      <th>ADJUSTMENT</th>\n",
       "      <th>HOLES</th>\n",
       "      <th>RELATIVE_PAR</th>\n",
       "      <th>SG_PUTTING</th>\n",
       "      <th>SG_OTT</th>\n",
       "      <th>SG_APR</th>\n",
       "      <th>SG_ARG</th>\n",
       "      <th>WINS</th>\n",
       "      <th>TOP_10S</th>\n",
       "      <th>1ST</th>\n",
       "      <th>2ND</th>\n",
       "      <th>3RD</th>\n",
       "      <th>YEAR</th>\n",
       "      <th>SCORE_AVERAGE</th>\n",
       "      <th>DRIVING_DISTANCE</th>\n",
       "      <th>DRIVING_ACCURACY</th>\n",
       "      <th>DRIVING_USAGE</th>\n",
       "      <th>GREENS_IN_REGULATION</th>\n",
       "      <th>TOTAL_SG</th>\n",
       "    </tr>\n",
       "  </thead>\n",
       "  <tbody>\n",
       "    <tr>\n",
       "      <th>0</th>\n",
       "      <td>Rory McIlroy</td>\n",
       "      <td>-40.848</td>\n",
       "      <td>972.0</td>\n",
       "      <td>-0.33</td>\n",
       "      <td>2.336</td>\n",
       "      <td>1.072</td>\n",
       "      <td>1.002</td>\n",
       "      <td>0.273</td>\n",
       "      <td>4.0</td>\n",
       "      <td>10.0</td>\n",
       "      <td>4.0</td>\n",
       "      <td>2.0</td>\n",
       "      <td>1.0</td>\n",
       "      <td>2012</td>\n",
       "      <td>68.873185</td>\n",
       "      <td>310.075472</td>\n",
       "      <td>0.566138</td>\n",
       "      <td>0.109053</td>\n",
       "      <td>0.663580</td>\n",
       "      <td>2.347</td>\n",
       "    </tr>\n",
       "    <tr>\n",
       "      <th>1</th>\n",
       "      <td>Tiger Woods</td>\n",
       "      <td>-58.454</td>\n",
       "      <td>1206.0</td>\n",
       "      <td>-0.29</td>\n",
       "      <td>16.282</td>\n",
       "      <td>0.553</td>\n",
       "      <td>1.224</td>\n",
       "      <td>0.194</td>\n",
       "      <td>3.0</td>\n",
       "      <td>9.0</td>\n",
       "      <td>3.0</td>\n",
       "      <td>1.0</td>\n",
       "      <td>2.0</td>\n",
       "      <td>2012</td>\n",
       "      <td>68.903672</td>\n",
       "      <td>297.432836</td>\n",
       "      <td>0.639274</td>\n",
       "      <td>0.111111</td>\n",
       "      <td>0.675788</td>\n",
       "      <td>1.971</td>\n",
       "    </tr>\n",
       "    <tr>\n",
       "      <th>2</th>\n",
       "      <td>Jim Furyk</td>\n",
       "      <td>-66.464</td>\n",
       "      <td>1512.0</td>\n",
       "      <td>-0.25</td>\n",
       "      <td>27.493</td>\n",
       "      <td>0.225</td>\n",
       "      <td>0.830</td>\n",
       "      <td>0.275</td>\n",
       "      <td>0.0</td>\n",
       "      <td>7.0</td>\n",
       "      <td>0.0</td>\n",
       "      <td>2.0</td>\n",
       "      <td>1.0</td>\n",
       "      <td>2012</td>\n",
       "      <td>69.304000</td>\n",
       "      <td>279.981928</td>\n",
       "      <td>0.707088</td>\n",
       "      <td>0.109788</td>\n",
       "      <td>0.681878</td>\n",
       "      <td>1.330</td>\n",
       "    </tr>\n",
       "    <tr>\n",
       "      <th>3</th>\n",
       "      <td>Jason Dufner</td>\n",
       "      <td>-35.636</td>\n",
       "      <td>1476.0</td>\n",
       "      <td>-0.29</td>\n",
       "      <td>9.777</td>\n",
       "      <td>0.553</td>\n",
       "      <td>0.519</td>\n",
       "      <td>0.222</td>\n",
       "      <td>2.0</td>\n",
       "      <td>8.0</td>\n",
       "      <td>2.0</td>\n",
       "      <td>1.0</td>\n",
       "      <td>0.0</td>\n",
       "      <td>2012</td>\n",
       "      <td>69.455659</td>\n",
       "      <td>292.388889</td>\n",
       "      <td>0.669002</td>\n",
       "      <td>0.109756</td>\n",
       "      <td>0.691734</td>\n",
       "      <td>1.294</td>\n",
       "    </tr>\n",
       "    <tr>\n",
       "      <th>4</th>\n",
       "      <td>Matt Kuchar</td>\n",
       "      <td>-45.884</td>\n",
       "      <td>1476.0</td>\n",
       "      <td>-0.27</td>\n",
       "      <td>31.151</td>\n",
       "      <td>0.110</td>\n",
       "      <td>0.490</td>\n",
       "      <td>0.309</td>\n",
       "      <td>1.0</td>\n",
       "      <td>9.0</td>\n",
       "      <td>1.0</td>\n",
       "      <td>0.0</td>\n",
       "      <td>1.0</td>\n",
       "      <td>2012</td>\n",
       "      <td>69.477024</td>\n",
       "      <td>286.195122</td>\n",
       "      <td>0.650613</td>\n",
       "      <td>0.111111</td>\n",
       "      <td>0.653794</td>\n",
       "      <td>0.909</td>\n",
       "    </tr>\n",
       "    <tr>\n",
       "      <th>...</th>\n",
       "      <td>...</td>\n",
       "      <td>...</td>\n",
       "      <td>...</td>\n",
       "      <td>...</td>\n",
       "      <td>...</td>\n",
       "      <td>...</td>\n",
       "      <td>...</td>\n",
       "      <td>...</td>\n",
       "      <td>...</td>\n",
       "      <td>...</td>\n",
       "      <td>...</td>\n",
       "      <td>...</td>\n",
       "      <td>...</td>\n",
       "      <td>...</td>\n",
       "      <td>...</td>\n",
       "      <td>...</td>\n",
       "      <td>...</td>\n",
       "      <td>...</td>\n",
       "      <td>...</td>\n",
       "      <td>...</td>\n",
       "    </tr>\n",
       "    <tr>\n",
       "      <th>1887</th>\n",
       "      <td>Michael Gellerman</td>\n",
       "      <td>22.247</td>\n",
       "      <td>450.0</td>\n",
       "      <td>-0.22</td>\n",
       "      <td>-0.568</td>\n",
       "      <td>-0.202</td>\n",
       "      <td>-1.771</td>\n",
       "      <td>0.276</td>\n",
       "      <td>0.0</td>\n",
       "      <td>0.0</td>\n",
       "      <td>0.0</td>\n",
       "      <td>0.0</td>\n",
       "      <td>0.0</td>\n",
       "      <td>2021</td>\n",
       "      <td>73.529880</td>\n",
       "      <td>290.440000</td>\n",
       "      <td>0.631429</td>\n",
       "      <td>0.111111</td>\n",
       "      <td>0.664444</td>\n",
       "      <td>-1.697</td>\n",
       "    </tr>\n",
       "    <tr>\n",
       "      <th>1888</th>\n",
       "      <td>Hunter Mahan</td>\n",
       "      <td>27.152</td>\n",
       "      <td>792.0</td>\n",
       "      <td>-0.26</td>\n",
       "      <td>3.552</td>\n",
       "      <td>0.020</td>\n",
       "      <td>-1.217</td>\n",
       "      <td>-1.013</td>\n",
       "      <td>0.0</td>\n",
       "      <td>0.0</td>\n",
       "      <td>0.0</td>\n",
       "      <td>0.0</td>\n",
       "      <td>0.0</td>\n",
       "      <td>2021</td>\n",
       "      <td>73.571636</td>\n",
       "      <td>296.181818</td>\n",
       "      <td>0.549020</td>\n",
       "      <td>0.111111</td>\n",
       "      <td>0.573232</td>\n",
       "      <td>-2.210</td>\n",
       "    </tr>\n",
       "    <tr>\n",
       "      <th>1889</th>\n",
       "      <td>Martin Trainer</td>\n",
       "      <td>21.973</td>\n",
       "      <td>738.0</td>\n",
       "      <td>-0.29</td>\n",
       "      <td>-2.960</td>\n",
       "      <td>-0.546</td>\n",
       "      <td>-1.540</td>\n",
       "      <td>0.150</td>\n",
       "      <td>0.0</td>\n",
       "      <td>0.0</td>\n",
       "      <td>0.0</td>\n",
       "      <td>0.0</td>\n",
       "      <td>0.0</td>\n",
       "      <td>2021</td>\n",
       "      <td>73.609098</td>\n",
       "      <td>302.670732</td>\n",
       "      <td>0.471930</td>\n",
       "      <td>0.111111</td>\n",
       "      <td>0.540650</td>\n",
       "      <td>-1.936</td>\n",
       "    </tr>\n",
       "    <tr>\n",
       "      <th>1890</th>\n",
       "      <td>Kevin Stadler</td>\n",
       "      <td>10.106</td>\n",
       "      <td>522.0</td>\n",
       "      <td>-0.27</td>\n",
       "      <td>-13.049</td>\n",
       "      <td>-0.670</td>\n",
       "      <td>-0.316</td>\n",
       "      <td>-0.583</td>\n",
       "      <td>0.0</td>\n",
       "      <td>0.0</td>\n",
       "      <td>0.0</td>\n",
       "      <td>0.0</td>\n",
       "      <td>0.0</td>\n",
       "      <td>2021</td>\n",
       "      <td>73.900207</td>\n",
       "      <td>283.362069</td>\n",
       "      <td>0.542289</td>\n",
       "      <td>0.111111</td>\n",
       "      <td>0.593870</td>\n",
       "      <td>-1.569</td>\n",
       "    </tr>\n",
       "    <tr>\n",
       "      <th>1891</th>\n",
       "      <td>Matt Every</td>\n",
       "      <td>12.805</td>\n",
       "      <td>486.0</td>\n",
       "      <td>-0.20</td>\n",
       "      <td>-0.404</td>\n",
       "      <td>-0.115</td>\n",
       "      <td>-1.375</td>\n",
       "      <td>-0.297</td>\n",
       "      <td>0.0</td>\n",
       "      <td>0.0</td>\n",
       "      <td>0.0</td>\n",
       "      <td>0.0</td>\n",
       "      <td>0.0</td>\n",
       "      <td>2021</td>\n",
       "      <td>74.511296</td>\n",
       "      <td>288.481481</td>\n",
       "      <td>0.526455</td>\n",
       "      <td>0.111111</td>\n",
       "      <td>0.547325</td>\n",
       "      <td>-1.787</td>\n",
       "    </tr>\n",
       "  </tbody>\n",
       "</table>\n",
       "<p>1892 rows × 20 columns</p>\n",
       "</div>"
      ],
      "text/plain": [
       "                   NAME  ADJUSTMENT   HOLES  RELATIVE_PAR  SG_PUTTING  SG_OTT  \\\n",
       "0          Rory McIlroy     -40.848   972.0         -0.33       2.336   1.072   \n",
       "1           Tiger Woods     -58.454  1206.0         -0.29      16.282   0.553   \n",
       "2             Jim Furyk     -66.464  1512.0         -0.25      27.493   0.225   \n",
       "3          Jason Dufner     -35.636  1476.0         -0.29       9.777   0.553   \n",
       "4           Matt Kuchar     -45.884  1476.0         -0.27      31.151   0.110   \n",
       "...                 ...         ...     ...           ...         ...     ...   \n",
       "1887  Michael Gellerman      22.247   450.0         -0.22      -0.568  -0.202   \n",
       "1888       Hunter Mahan      27.152   792.0         -0.26       3.552   0.020   \n",
       "1889     Martin Trainer      21.973   738.0         -0.29      -2.960  -0.546   \n",
       "1890      Kevin Stadler      10.106   522.0         -0.27     -13.049  -0.670   \n",
       "1891         Matt Every      12.805   486.0         -0.20      -0.404  -0.115   \n",
       "\n",
       "      SG_APR  SG_ARG  WINS  TOP_10S  1ST  2ND  3RD  YEAR  SCORE_AVERAGE  \\\n",
       "0      1.002   0.273   4.0     10.0  4.0  2.0  1.0  2012      68.873185   \n",
       "1      1.224   0.194   3.0      9.0  3.0  1.0  2.0  2012      68.903672   \n",
       "2      0.830   0.275   0.0      7.0  0.0  2.0  1.0  2012      69.304000   \n",
       "3      0.519   0.222   2.0      8.0  2.0  1.0  0.0  2012      69.455659   \n",
       "4      0.490   0.309   1.0      9.0  1.0  0.0  1.0  2012      69.477024   \n",
       "...      ...     ...   ...      ...  ...  ...  ...   ...            ...   \n",
       "1887  -1.771   0.276   0.0      0.0  0.0  0.0  0.0  2021      73.529880   \n",
       "1888  -1.217  -1.013   0.0      0.0  0.0  0.0  0.0  2021      73.571636   \n",
       "1889  -1.540   0.150   0.0      0.0  0.0  0.0  0.0  2021      73.609098   \n",
       "1890  -0.316  -0.583   0.0      0.0  0.0  0.0  0.0  2021      73.900207   \n",
       "1891  -1.375  -0.297   0.0      0.0  0.0  0.0  0.0  2021      74.511296   \n",
       "\n",
       "      DRIVING_DISTANCE  DRIVING_ACCURACY  DRIVING_USAGE  GREENS_IN_REGULATION  \\\n",
       "0           310.075472          0.566138       0.109053              0.663580   \n",
       "1           297.432836          0.639274       0.111111              0.675788   \n",
       "2           279.981928          0.707088       0.109788              0.681878   \n",
       "3           292.388889          0.669002       0.109756              0.691734   \n",
       "4           286.195122          0.650613       0.111111              0.653794   \n",
       "...                ...               ...            ...                   ...   \n",
       "1887        290.440000          0.631429       0.111111              0.664444   \n",
       "1888        296.181818          0.549020       0.111111              0.573232   \n",
       "1889        302.670732          0.471930       0.111111              0.540650   \n",
       "1890        283.362069          0.542289       0.111111              0.593870   \n",
       "1891        288.481481          0.526455       0.111111              0.547325   \n",
       "\n",
       "      TOTAL_SG  \n",
       "0        2.347  \n",
       "1        1.971  \n",
       "2        1.330  \n",
       "3        1.294  \n",
       "4        0.909  \n",
       "...        ...  \n",
       "1887    -1.697  \n",
       "1888    -2.210  \n",
       "1889    -1.936  \n",
       "1890    -1.569  \n",
       "1891    -1.787  \n",
       "\n",
       "[1892 rows x 20 columns]"
      ]
     },
     "execution_count": 2,
     "metadata": {},
     "output_type": "execute_result"
    }
   ],
   "source": [
    "df = pd.read_csv('data/golf_stats.csv')\n",
    "df.drop(['Unnamed: 0'], axis=1, inplace=True)\n",
    "df"
   ]
  },
  {
   "cell_type": "markdown",
   "metadata": {},
   "source": [
    "# Important relationships (in my opinion):\n",
    "\n",
    "### coor(GREENS_IN_REGULATION, SCORE_AVERAGE) = -0.510862     so, x 3\n",
    "### coor(SG_PUTTING, SCORE_AVERAGE) = -0.337547               so, x 1\n",
    "### coor(SG_APR, SCORE_AVERAGE) = -0.682594                   so, x 5\n",
    "### coor(SG_OTT, SCORE_AVERAGE) = -0.552929                   so, x 4\n",
    "### coor(SG_ARG, SCORE_AVERAGE) = -0.365189                   so, x 2"
   ]
  },
  {
   "cell_type": "markdown",
   "metadata": {},
   "source": [
    "# Predictions for years 2013 to 2022 based on previous years:"
   ]
  },
  {
   "cell_type": "code",
   "execution_count": 3,
   "metadata": {},
   "outputs": [],
   "source": [
    "pred_2013 = df[df['YEAR']==2012]\n",
    "pred_2014 = df[df['YEAR']==2013]\n",
    "pred_2015 = df[df['YEAR']==2014]\n",
    "pred_2016 = df[df['YEAR']==2015]\n",
    "pred_2017 = df[df['YEAR']==2016]\n",
    "pred_2018 = df[df['YEAR']==2017]\n",
    "pred_2019 = df[df['YEAR']==2018]\n",
    "pred_2020 = df[df['YEAR']==2019]\n",
    "pred_2021 = df[df['YEAR']==2020]\n",
    "pred_2022 = df[df['YEAR']==2021]\n",
    "\n",
    "pred_list = ['pred_2013','pred_2014', 'pred_2015', 'pred_2016', 'pred_2017', 'pred_2018', 'pred_2019', 'pred_2020', 'pred_2021', 'pred_2022']"
   ]
  },
  {
   "cell_type": "code",
   "execution_count": 4,
   "metadata": {},
   "outputs": [],
   "source": [
    "def winners(df):\n",
    "\n",
    "    # Ranking of the most consistent players.\n",
    "\n",
    "    df.sort_values(by = 'GREENS_IN_REGULATION', inplace = True, ascending = False)\n",
    "    df.reset_index(inplace = True)\n",
    "    df['DRIVING_RANKING'] = df.index+1\n",
    "\n",
    "    df.drop(['index'], axis=1, inplace=True)\n",
    "\n",
    "\n",
    "\n",
    "    # Ranking of the best drivers.\n",
    "\n",
    "    df.sort_values(by = 'SG_OTT', inplace = True, ascending = False)\n",
    "    df.reset_index(inplace = True)\n",
    "    df['DRIVING_SG_RANKING'] = df.index+1\n",
    "\n",
    "    df.drop(['index'], axis=1, inplace=True)\n",
    "\n",
    "\n",
    "\n",
    "    # Ranking of the best Putting players\n",
    "\n",
    "    df.sort_values(by = 'SG_PUTTING', inplace = True, ascending = False)\n",
    "    df.reset_index(inplace = True)\n",
    "    df['BEST_PUTTERS'] = df.index+1\n",
    "\n",
    "    df.drop(['index'], axis=1, inplace=True)\n",
    "\n",
    "\n",
    "\n",
    "    # Ranking of the best Aproaching players\n",
    "\n",
    "    df.sort_values(by = 'SG_APR', inplace = True, ascending = False)\n",
    "    df.reset_index(inplace = True)\n",
    "    df['BEST_APROACHERS'] = df.index+1\n",
    "\n",
    "    df.drop(['index'], axis=1, inplace=True)\n",
    "\n",
    "\n",
    "\n",
    "    # Ranking of the best Pitching players\n",
    "\n",
    "    df.sort_values(by = 'SG_ARG', inplace = True, ascending = False)\n",
    "    df.reset_index(inplace = True)\n",
    "    df['BEST_ARG'] = df.index+1\n",
    "\n",
    "    df.drop(['index'], axis=1, inplace=True)\n",
    "\n",
    "    \n",
    "    # CREATING RANKING \n",
    "\n",
    "    df['PREDICTIVE_SCORE'] = (df.GREENS_IN_REGULATION * 3) + (df.DRIVING_SG_RANKING * 4) + (df.BEST_APROACHERS * 5) + (df.BEST_PUTTERS * 1)+ (df.BEST_ARG * 2)\n",
    "    df.sort_values(by = 'PREDICTIVE_SCORE', inplace = True, ascending = True)\n",
    "    df.reset_index(inplace = True)\n",
    "    df['PREDICTIVE_RANKING'] = df.index + 1\n",
    "\n",
    "    df.drop(['index'], axis=1, inplace=True)\n",
    "\n",
    "    return df.head(10)"
   ]
  },
  {
   "cell_type": "code",
   "execution_count": 5,
   "metadata": {},
   "outputs": [
    {
     "name": "stderr",
     "output_type": "stream",
     "text": [
      "<ipython-input-4-ec41d3808e12>:5: SettingWithCopyWarning: \n",
      "A value is trying to be set on a copy of a slice from a DataFrame\n",
      "\n",
      "See the caveats in the documentation: https://pandas.pydata.org/pandas-docs/stable/user_guide/indexing.html#returning-a-view-versus-a-copy\n",
      "  df.sort_values(by = 'GREENS_IN_REGULATION', inplace = True, ascending = False)\n",
      "<ipython-input-4-ec41d3808e12>:7: SettingWithCopyWarning: \n",
      "A value is trying to be set on a copy of a slice from a DataFrame.\n",
      "Try using .loc[row_indexer,col_indexer] = value instead\n",
      "\n",
      "See the caveats in the documentation: https://pandas.pydata.org/pandas-docs/stable/user_guide/indexing.html#returning-a-view-versus-a-copy\n",
      "  df['DRIVING_RANKING'] = df.index+1\n",
      "/usr/local/lib/python3.8/site-packages/pandas/core/frame.py:4163: SettingWithCopyWarning: \n",
      "A value is trying to be set on a copy of a slice from a DataFrame\n",
      "\n",
      "See the caveats in the documentation: https://pandas.pydata.org/pandas-docs/stable/user_guide/indexing.html#returning-a-view-versus-a-copy\n",
      "  return super().drop(\n",
      "<ipython-input-4-ec41d3808e12>:15: SettingWithCopyWarning: \n",
      "A value is trying to be set on a copy of a slice from a DataFrame\n",
      "\n",
      "See the caveats in the documentation: https://pandas.pydata.org/pandas-docs/stable/user_guide/indexing.html#returning-a-view-versus-a-copy\n",
      "  df.sort_values(by = 'SG_OTT', inplace = True, ascending = False)\n",
      "<ipython-input-4-ec41d3808e12>:17: SettingWithCopyWarning: \n",
      "A value is trying to be set on a copy of a slice from a DataFrame.\n",
      "Try using .loc[row_indexer,col_indexer] = value instead\n",
      "\n",
      "See the caveats in the documentation: https://pandas.pydata.org/pandas-docs/stable/user_guide/indexing.html#returning-a-view-versus-a-copy\n",
      "  df['DRIVING_SG_RANKING'] = df.index+1\n",
      "<ipython-input-4-ec41d3808e12>:25: SettingWithCopyWarning: \n",
      "A value is trying to be set on a copy of a slice from a DataFrame\n",
      "\n",
      "See the caveats in the documentation: https://pandas.pydata.org/pandas-docs/stable/user_guide/indexing.html#returning-a-view-versus-a-copy\n",
      "  df.sort_values(by = 'SG_PUTTING', inplace = True, ascending = False)\n",
      "<ipython-input-4-ec41d3808e12>:27: SettingWithCopyWarning: \n",
      "A value is trying to be set on a copy of a slice from a DataFrame.\n",
      "Try using .loc[row_indexer,col_indexer] = value instead\n",
      "\n",
      "See the caveats in the documentation: https://pandas.pydata.org/pandas-docs/stable/user_guide/indexing.html#returning-a-view-versus-a-copy\n",
      "  df['BEST_PUTTERS'] = df.index+1\n",
      "<ipython-input-4-ec41d3808e12>:35: SettingWithCopyWarning: \n",
      "A value is trying to be set on a copy of a slice from a DataFrame\n",
      "\n",
      "See the caveats in the documentation: https://pandas.pydata.org/pandas-docs/stable/user_guide/indexing.html#returning-a-view-versus-a-copy\n",
      "  df.sort_values(by = 'SG_APR', inplace = True, ascending = False)\n",
      "<ipython-input-4-ec41d3808e12>:37: SettingWithCopyWarning: \n",
      "A value is trying to be set on a copy of a slice from a DataFrame.\n",
      "Try using .loc[row_indexer,col_indexer] = value instead\n",
      "\n",
      "See the caveats in the documentation: https://pandas.pydata.org/pandas-docs/stable/user_guide/indexing.html#returning-a-view-versus-a-copy\n",
      "  df['BEST_APROACHERS'] = df.index+1\n",
      "<ipython-input-4-ec41d3808e12>:45: SettingWithCopyWarning: \n",
      "A value is trying to be set on a copy of a slice from a DataFrame\n",
      "\n",
      "See the caveats in the documentation: https://pandas.pydata.org/pandas-docs/stable/user_guide/indexing.html#returning-a-view-versus-a-copy\n",
      "  df.sort_values(by = 'SG_ARG', inplace = True, ascending = False)\n",
      "<ipython-input-4-ec41d3808e12>:47: SettingWithCopyWarning: \n",
      "A value is trying to be set on a copy of a slice from a DataFrame.\n",
      "Try using .loc[row_indexer,col_indexer] = value instead\n",
      "\n",
      "See the caveats in the documentation: https://pandas.pydata.org/pandas-docs/stable/user_guide/indexing.html#returning-a-view-versus-a-copy\n",
      "  df['BEST_ARG'] = df.index+1\n",
      "<ipython-input-4-ec41d3808e12>:54: SettingWithCopyWarning: \n",
      "A value is trying to be set on a copy of a slice from a DataFrame.\n",
      "Try using .loc[row_indexer,col_indexer] = value instead\n",
      "\n",
      "See the caveats in the documentation: https://pandas.pydata.org/pandas-docs/stable/user_guide/indexing.html#returning-a-view-versus-a-copy\n",
      "  df['PREDICTIVE_SCORE'] = (df.GREENS_IN_REGULATION * 3) + (df.DRIVING_SG_RANKING * 4) + (df.BEST_APROACHERS * 5) + (df.BEST_PUTTERS * 1)+ (df.BEST_ARG * 2)\n",
      "<ipython-input-4-ec41d3808e12>:55: SettingWithCopyWarning: \n",
      "A value is trying to be set on a copy of a slice from a DataFrame\n",
      "\n",
      "See the caveats in the documentation: https://pandas.pydata.org/pandas-docs/stable/user_guide/indexing.html#returning-a-view-versus-a-copy\n",
      "  df.sort_values(by = 'PREDICTIVE_SCORE', inplace = True, ascending = True)\n",
      "<ipython-input-4-ec41d3808e12>:57: SettingWithCopyWarning: \n",
      "A value is trying to be set on a copy of a slice from a DataFrame.\n",
      "Try using .loc[row_indexer,col_indexer] = value instead\n",
      "\n",
      "See the caveats in the documentation: https://pandas.pydata.org/pandas-docs/stable/user_guide/indexing.html#returning-a-view-versus-a-copy\n",
      "  df['PREDICTIVE_RANKING'] = df.index + 1\n"
     ]
    }
   ],
   "source": [
    "winners_2013 = winners(pred_2013)\n",
    "winners_2014 = winners(pred_2014)\n",
    "winners_2015 = winners(pred_2015)\n",
    "winners_2016 = winners(pred_2016)\n",
    "winners_2017 = winners(pred_2017)\n",
    "winners_2018 = winners(pred_2018)\n",
    "winners_2019 = winners(pred_2019)\n",
    "winners_2020 = winners(pred_2020)\n",
    "winners_2021 = winners(pred_2021)\n",
    "winners_2022 = winners(pred_2022)"
   ]
  },
  {
   "cell_type": "markdown",
   "metadata": {},
   "source": [
    "# Get a list of players who I think might win in each year:"
   ]
  },
  {
   "cell_type": "code",
   "execution_count": 6,
   "metadata": {},
   "outputs": [],
   "source": [
    "winners_2013 = winners_2013['NAME'].to_list()\n",
    "winners_2014 = winners_2014['NAME'].to_list()\n",
    "winners_2015 = winners_2015['NAME'].to_list()\n",
    "winners_2016 = winners_2016['NAME'].to_list()\n",
    "winners_2017 = winners_2017['NAME'].to_list()\n",
    "winners_2018 = winners_2018['NAME'].to_list()\n",
    "winners_2019 = winners_2019['NAME'].to_list()\n",
    "winners_2020 = winners_2020['NAME'].to_list()\n",
    "winners_2021 = winners_2021['NAME'].to_list()\n",
    "winners_2022 = winners_2022['NAME'].to_list()"
   ]
  },
  {
   "cell_type": "markdown",
   "metadata": {},
   "source": [
    "# Import real winners for every year:"
   ]
  },
  {
   "cell_type": "code",
   "execution_count": 12,
   "metadata": {},
   "outputs": [],
   "source": [
    "true_winners2012 = pd.read_csv('data/winners2012.csv')\n",
    "true_winners2012.drop(['Unnamed: 0'], axis=1, inplace=True)\n",
    "true_winners2012 =true_winners2012['NAME'].to_list()\n",
    "\n",
    "true_winners2013 = pd.read_csv('data/winners2013.csv')\n",
    "true_winners2013.drop(['Unnamed: 0'], axis=1, inplace=True)\n",
    "true_winners2013 =true_winners2013['NAME'].to_list()\n",
    "\n",
    "true_winners2014 = pd.read_csv('data/winners2014.csv')\n",
    "true_winners2014.drop(['Unnamed: 0'], axis=1, inplace=True)\n",
    "true_winners2014 = true_winners2014['NAME'].to_list()\n",
    "\n",
    "true_winners2015 = pd.read_csv('data/winners2015.csv')\n",
    "true_winners2015.drop(['Unnamed: 0'], axis=1, inplace=True)\n",
    "true_winners2015 = true_winners2015['NAME'].to_list()\n",
    "\n",
    "true_winners2016 = pd.read_csv('data/winners2016.csv')\n",
    "true_winners2016.drop(['Unnamed: 0'], axis=1, inplace=True)\n",
    "true_winners2016 = true_winners2016['NAME'].to_list()\n",
    "\n",
    "true_winners2017 = pd.read_csv('data/winners2017.csv')\n",
    "true_winners2017.drop(['Unnamed: 0'], axis=1, inplace=True)\n",
    "true_winners2017 = true_winners2017['NAME'].to_list()\n",
    "\n",
    "true_winners2018 = pd.read_csv('data/winners2018.csv')\n",
    "true_winners2018.drop(['Unnamed: 0'], axis=1, inplace=True)\n",
    "true_winners2018 = true_winners2018['NAME'].to_list()\n",
    "\n",
    "true_winners2019 = pd.read_csv('data/winners2019.csv')\n",
    "true_winners2019.drop(['Unnamed: 0'], axis=1, inplace=True)\n",
    "true_winners2019 = true_winners2019['NAME'].to_list()\n",
    "\n",
    "true_winners2020 = pd.read_csv('data/winners2020.csv')\n",
    "true_winners2020.drop(['Unnamed: 0'], axis=1, inplace=True)\n",
    "true_winners2020 = true_winners2020['NAME'].to_list()\n",
    "\n",
    "true_winners2021 = pd.read_csv('data/winners2021.csv')\n",
    "true_winners2021.drop(['Unnamed: 0'], axis=1, inplace=True)\n",
    "true_winners2021 = true_winners2021['NAME'].to_list()"
   ]
  },
  {
   "cell_type": "markdown",
   "metadata": {},
   "source": [
    "# Checking how many guesses per year we've got from out TOP 10 possible winners based on the previous year performance:"
   ]
  },
  {
   "cell_type": "code",
   "execution_count": 14,
   "metadata": {},
   "outputs": [
    {
     "name": "stdout",
     "output_type": "stream",
     "text": [
      "Tiger Woods\n",
      "1\n",
      "Justin Rose\n",
      "2\n",
      "Adam Scott\n",
      "3\n",
      "Matt Kuchar\n",
      "4\n"
     ]
    }
   ],
   "source": [
    "i = 0\n",
    "for x in true_winners2013:\n",
    "    if x in winners_2013:\n",
    "        i += 1\n",
    "        print(x)\n",
    "        print(i)"
   ]
  },
  {
   "cell_type": "code",
   "execution_count": 15,
   "metadata": {},
   "outputs": [
    {
     "name": "stdout",
     "output_type": "stream",
     "text": [
      "Adam Scott\n",
      "1\n",
      "Justin Rose\n",
      "2\n"
     ]
    }
   ],
   "source": [
    "i = 0\n",
    "for x in true_winners2014:\n",
    "    if x in winners_2014:\n",
    "        i += 1\n",
    "        print(x)\n",
    "        print(i)"
   ]
  },
  {
   "cell_type": "code",
   "execution_count": 16,
   "metadata": {},
   "outputs": [
    {
     "name": "stdout",
     "output_type": "stream",
     "text": [
      "Dustin Johnson\n",
      "1\n",
      "Justin Rose\n",
      "2\n",
      "Jim Furyk\n",
      "3\n"
     ]
    }
   ],
   "source": [
    "i = 0\n",
    "for x in true_winners2015:\n",
    "    if x in winners_2015:\n",
    "        i += 1\n",
    "        print(x)\n",
    "        print(i)"
   ]
  },
  {
   "cell_type": "code",
   "execution_count": 17,
   "metadata": {},
   "outputs": [
    {
     "name": "stdout",
     "output_type": "stream",
     "text": [
      "Jason Day\n",
      "1\n",
      "Jordan Spieth\n",
      "2\n",
      "Sergio Garcia\n",
      "3\n"
     ]
    }
   ],
   "source": [
    "i = 0\n",
    "for x in true_winners2016:\n",
    "    if x in winners_2016:\n",
    "        i += 1\n",
    "        print(x)\n",
    "        print(i)"
   ]
  },
  {
   "cell_type": "code",
   "execution_count": 18,
   "metadata": {},
   "outputs": [
    {
     "name": "stdout",
     "output_type": "stream",
     "text": [
      "Rickie Fowler\n",
      "1\n",
      "Hideki Matsuyama\n",
      "2\n",
      "Dustin Johnson\n",
      "3\n",
      "Paul Casey\n",
      "4\n",
      "Rory McIlroy\n",
      "5\n"
     ]
    }
   ],
   "source": [
    "i = 0\n",
    "for x in true_winners2017:\n",
    "    if x in winners_2017:\n",
    "        i += 1\n",
    "        print(x)\n",
    "        print(i)"
   ]
  },
  {
   "cell_type": "code",
   "execution_count": 19,
   "metadata": {},
   "outputs": [
    {
     "name": "stdout",
     "output_type": "stream",
     "text": [
      "Dustin Johnson\n",
      "1\n",
      "Justin Thomas\n",
      "2\n",
      "Rickie Fowler\n",
      "3\n"
     ]
    }
   ],
   "source": [
    "i = 0\n",
    "for x in true_winners2018:\n",
    "    if x in winners_2018:\n",
    "        i += 1\n",
    "        print(x)\n",
    "        print(i)"
   ]
  },
  {
   "cell_type": "code",
   "execution_count": 20,
   "metadata": {},
   "outputs": [
    {
     "name": "stdout",
     "output_type": "stream",
     "text": [
      "Patrick Cantlay\n",
      "1\n",
      "Justin Thomas\n",
      "2\n",
      "Tommy Fleetwood\n",
      "3\n",
      "Justin Rose\n",
      "4\n"
     ]
    }
   ],
   "source": [
    "i = 0\n",
    "for x in true_winners2019:\n",
    "    if x in winners_2019:\n",
    "        i += 1\n",
    "        print(x)\n",
    "        print(i)"
   ]
  },
  {
   "cell_type": "code",
   "execution_count": 21,
   "metadata": {},
   "outputs": [
    {
     "name": "stdout",
     "output_type": "stream",
     "text": [
      "Jon Rahm\n",
      "1\n",
      "Justin Thomas\n",
      "2\n",
      "Rory McIlroy\n",
      "3\n",
      "Xander Schauffele\n",
      "4\n",
      "Dustin Johnson\n",
      "5\n"
     ]
    }
   ],
   "source": [
    "i = 0\n",
    "for x in true_winners2020:\n",
    "    if x in winners_2020:\n",
    "        i += 1\n",
    "        print(x)\n",
    "        print(i)"
   ]
  },
  {
   "cell_type": "code",
   "execution_count": 22,
   "metadata": {},
   "outputs": [
    {
     "name": "stdout",
     "output_type": "stream",
     "text": [
      "Justin Thomas\n",
      "1\n",
      "Xander Schauffele\n",
      "2\n",
      "Jon Rahm\n",
      "3\n",
      "Dustin Johnson\n",
      "4\n"
     ]
    }
   ],
   "source": [
    "i = 0\n",
    "for x in true_winners2021:\n",
    "    if x in winners_2021:\n",
    "        i += 1\n",
    "        print(x)\n",
    "        print(i)"
   ]
  },
  {
   "cell_type": "markdown",
   "metadata": {},
   "source": [
    "# On average, out of the TOP 10 guesses, this human predictive model guesses 3.7 players, not bad, but still, if i ever use this model to bet, I would only put my mony on my top 5 results"
   ]
  },
  {
   "cell_type": "markdown",
   "metadata": {},
   "source": [
    "# Now I want to compare this model, with a simple prediction that only uses the TOP 10 winners of the previous year to guess the next year."
   ]
  },
  {
   "cell_type": "code",
   "execution_count": 23,
   "metadata": {},
   "outputs": [
    {
     "name": "stdout",
     "output_type": "stream",
     "text": [
      "Tiger Woods\n",
      "1\n",
      "Matt Kuchar\n",
      "2\n",
      "Adam Scott\n",
      "3\n",
      "Justin Rose\n",
      "4\n"
     ]
    }
   ],
   "source": [
    "i = 0\n",
    "for x in true_winners2012:\n",
    "    if x in true_winners2013:\n",
    "        i += 1\n",
    "        print(x)\n",
    "        print(i)"
   ]
  },
  {
   "cell_type": "code",
   "execution_count": 24,
   "metadata": {},
   "outputs": [
    {
     "name": "stdout",
     "output_type": "stream",
     "text": [
      "Justin Rose\n",
      "1\n",
      "Adam Scott\n",
      "2\n",
      "Sergio Garcia\n",
      "3\n",
      "Matt Kuchar\n",
      "4\n",
      "Charl Schwartzel\n",
      "5\n"
     ]
    }
   ],
   "source": [
    "i = 0\n",
    "for x in true_winners2013:\n",
    "    if x in true_winners2014:\n",
    "        i += 1\n",
    "        print(x)\n",
    "        print(i)"
   ]
  },
  {
   "cell_type": "code",
   "execution_count": 25,
   "metadata": {},
   "outputs": [
    {
     "name": "stdout",
     "output_type": "stream",
     "text": [
      "Jim Furyk\n",
      "1\n",
      "Dustin Johnson\n",
      "2\n",
      "Justin Rose\n",
      "3\n",
      "Jason Day\n",
      "4\n"
     ]
    }
   ],
   "source": [
    "i = 0\n",
    "for x in true_winners2014:\n",
    "    if x in true_winners2015:\n",
    "        i += 1\n",
    "        print(x)\n",
    "        print(i)"
   ]
  },
  {
   "cell_type": "code",
   "execution_count": 26,
   "metadata": {},
   "outputs": [
    {
     "name": "stdout",
     "output_type": "stream",
     "text": [
      "Jordan Spieth\n",
      "1\n",
      "Jason Day\n",
      "2\n",
      "Dustin Johnson\n",
      "3\n"
     ]
    }
   ],
   "source": [
    "i = 0\n",
    "for x in true_winners2015:\n",
    "    if x in true_winners2016:\n",
    "        i += 1\n",
    "        print(x)\n",
    "        print(i)"
   ]
  },
  {
   "cell_type": "code",
   "execution_count": 27,
   "metadata": {},
   "outputs": [
    {
     "name": "stdout",
     "output_type": "stream",
     "text": [
      "Dustin Johnson\n",
      "1\n",
      "Jordan Spieth\n",
      "2\n",
      "Rory McIlroy\n",
      "3\n",
      "Sergio Garcia\n",
      "4\n"
     ]
    }
   ],
   "source": [
    "i = 0\n",
    "for x in true_winners2016:\n",
    "    if x in true_winners2017:\n",
    "        i += 1\n",
    "        print(x)\n",
    "        print(i)"
   ]
  },
  {
   "cell_type": "code",
   "execution_count": 28,
   "metadata": {},
   "outputs": [
    {
     "name": "stdout",
     "output_type": "stream",
     "text": [
      "Rickie Fowler\n",
      "1\n",
      "Justin Thomas\n",
      "2\n",
      "Dustin Johnson\n",
      "3\n",
      "Rory McIlroy\n",
      "4\n"
     ]
    }
   ],
   "source": [
    "i = 0\n",
    "for x in true_winners2017:\n",
    "    if x in true_winners2018:\n",
    "        i += 1\n",
    "        print(x)\n",
    "        print(i)"
   ]
  },
  {
   "cell_type": "code",
   "execution_count": 29,
   "metadata": {},
   "outputs": [
    {
     "name": "stdout",
     "output_type": "stream",
     "text": [
      "Justin Rose\n",
      "1\n",
      "Justin Thomas\n",
      "2\n",
      "Webb Simpson\n",
      "3\n",
      "Rory McIlroy\n",
      "4\n",
      "Tommy Fleetwood\n",
      "5\n",
      "Brooks Koepka\n",
      "6\n"
     ]
    }
   ],
   "source": [
    "i = 0\n",
    "for x in true_winners2018:\n",
    "    if x in true_winners2019:\n",
    "        i += 1\n",
    "        print(x)\n",
    "        print(i)"
   ]
  },
  {
   "cell_type": "code",
   "execution_count": 30,
   "metadata": {},
   "outputs": [
    {
     "name": "stdout",
     "output_type": "stream",
     "text": [
      "Rory McIlroy\n",
      "1\n",
      "Webb Simpson\n",
      "2\n",
      "Justin Thomas\n",
      "3\n",
      "Jon Rahm\n",
      "4\n"
     ]
    }
   ],
   "source": [
    "i = 0\n",
    "for x in true_winners2019:\n",
    "    if x in true_winners2020:\n",
    "        i += 1\n",
    "        print(x)\n",
    "        print(i)"
   ]
  },
  {
   "cell_type": "code",
   "execution_count": 31,
   "metadata": {},
   "outputs": [
    {
     "name": "stdout",
     "output_type": "stream",
     "text": [
      "Webb Simpson\n",
      "1\n",
      "Jon Rahm\n",
      "2\n",
      "Justin Thomas\n",
      "3\n",
      "Xander Schauffele\n",
      "4\n",
      "Bryson DeChambeau\n",
      "5\n",
      "Dustin Johnson\n",
      "6\n"
     ]
    }
   ],
   "source": [
    "i = 0\n",
    "for x in true_winners2020:\n",
    "    if x in true_winners2021:\n",
    "        i += 1\n",
    "        print(x)\n",
    "        print(i)"
   ]
  },
  {
   "cell_type": "markdown",
   "metadata": {},
   "source": [
    "# O no... As we can see it is better to base our bets on last years winners than to make any prediction model. Using this technique, we guessed on average, 4.9 players from the actual top 10 winners. Our chances of guessing went up by 32.43%...Ouch."
   ]
  }
 ],
 "metadata": {
  "kernelspec": {
   "display_name": "Python 3",
   "language": "python",
   "name": "python3"
  },
  "language_info": {
   "codemirror_mode": {
    "name": "ipython",
    "version": 3
   },
   "file_extension": ".py",
   "mimetype": "text/x-python",
   "name": "python",
   "nbconvert_exporter": "python",
   "pygments_lexer": "ipython3",
   "version": "3.8.6"
  }
 },
 "nbformat": 4,
 "nbformat_minor": 4
}
